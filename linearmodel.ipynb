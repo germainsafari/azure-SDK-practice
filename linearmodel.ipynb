{
 "cells": [
  {
   "cell_type": "markdown",
   "metadata": {},
   "source": [
    "SCIKIT-LEARN - open source library for machine learning tasks\n",
    "provides efficient tools for data preprocessing, modeling, evaluation,..\n",
    "built on top of numpy, pandas, matplotlib for numerical computation and plotting\n",
    "\n",
    "KEY CONCEPTS\n",
    "\n",
    "1. Datasets: collections of data points for training and testing models\n",
    "2. Features: Attributes or measurements in each data point\n",
    "3. Target: the value you want to predict\n",
    "4. Models: algorithms that learn from data to make predictions\n",
    "5. evaluation: assessing model's performance on unseen data using metrics like accuracy, predition, precision , recall etcs\n"
   ]
  },
  {
   "cell_type": "code",
   "execution_count": 9,
   "metadata": {},
   "outputs": [
    {
     "name": "stdout",
     "output_type": "stream",
     "text": [
      "mean spuared error 0.0\n"
     ]
    }
   ],
   "source": [
    "from sklearn.datasets import load_diabetes\n",
    "from sklearn.model_selection import train_test_split\n",
    "from sklearn.linear_model import LinearRegression\n",
    "from sklearn.tree import DecisionTreeClassifier\n",
    "from sklearn.ensemble import RandomForestClassifier\n",
    "from sklearn.linear_model import LogisticRegression\n",
    "from sklearn.svm import SVC\n",
    "from sklearn.neighbors import KNeighborsClassifier\n",
    "from sklearn.naive_bayes import GaussianNB\n",
    "from sklearn.cluster import KMeans\n",
    "from sklearn.decomposition import _pca\n",
    "from sklearn.cluster import AgglomerativeClustering\n",
    "from sklearn.cluster import DBSCAN\n",
    "from sklearn.metrics import mean_squared_error\n",
    "\n",
    "diabetes = load_diabetes()\n",
    "#load datasets\n",
    "X = diabetes.data #features\n",
    "y = diabetes.target #target\n",
    "\n",
    "X_train,X_test, y_train, y_test = train_test_split(X, y, test_size=0.2)\n",
    "''' supervised Learning models'''\n",
    "\n",
    "model = LinearRegression()\n",
    "model.fit(X_train, y_train)\n",
    "# logistic Regression\n",
    "model1 = LogisticRegression()\n",
    "model1.fit(X_train, y_train)\n",
    "\n",
    "# decision tree\n",
    "model2 = DecisionTreeClassifier()\n",
    "model2.fit(X_train, y_train)\n",
    "\n",
    "# random forests\n",
    "\n",
    "model3 = RandomForestClassifier()\n",
    "model3.fit(X, y)\n",
    "\n",
    "# support vector machines(SVM) \n",
    "model4 = SVC()\n",
    "model4.fit(X, y)\n",
    "# k-nearest neighbors\n",
    "\n",
    "model5 = KNeighborsClassifier()\n",
    "model5.fit(X, y)\n",
    "y_pred = model.predict(X_test)\n",
    "\n",
    "mse = mean_squared_error(y_test, y_test)\n",
    "print(\"mean spuared error\", mse)"
   ]
  },
  {
   "cell_type": "code",
   "execution_count": null,
   "metadata": {},
   "outputs": [],
   "source": []
  }
 ],
 "metadata": {
  "kernelspec": {
   "display_name": "base",
   "language": "python",
   "name": "python3"
  },
  "language_info": {
   "codemirror_mode": {
    "name": "ipython",
    "version": 3
   },
   "file_extension": ".py",
   "mimetype": "text/x-python",
   "name": "python",
   "nbconvert_exporter": "python",
   "pygments_lexer": "ipython3",
   "version": "3.11.5"
  }
 },
 "nbformat": 4,
 "nbformat_minor": 2
}
