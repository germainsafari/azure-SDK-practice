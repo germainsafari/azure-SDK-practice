{
 "cells": [
  {
   "cell_type": "markdown",
   "metadata": {},
   "source": [
    "Training a model in AML\n",
    "1. step up an azure machine learning workspace\n",
    "2. prepare your data: gather and preprocess your data\n",
    "3. define your compute environment: options include AML compute, azure databricks and azure virtual machines\n",
    "4. choose your model type: based on your problem doman and data. it can be a classification, regression, clustering model or any type\n",
    "5. write your training script: it include loading the data, defining the model architecture, training the model and evaluating its perfomance\n",
    "6. create an experiment: they are used to track the training process and results. create an experiment to log metrics, outputs and other relevant information during model training\n",
    "7. Run your script training script: submit your training script to the choosen  compute environment to start training process.\n",
    "8. monitor training progress: you can track metrics, view logs and troubleshoot any issue that may arise.\n",
    "9. evaluate your model: evaluate your model using validation of data or other techniques. model testing makes it easy to deploy and manage your model in production environments.\n",
    "10. Deploy your trained model as a web service or container to make predictions on new data.\n",
    "11. Monitor and maintain your deployed model "
   ]
  },
  {
   "cell_type": "markdown",
   "metadata": {},
   "source": [
    "1. set up AZML workspace.\n",
    "2.prepare data and write a script"
   ]
  },
  {
   "cell_type": "code",
   "execution_count": 4,
   "metadata": {},
   "outputs": [
    {
     "name": "stdout",
     "output_type": "stream",
     "text": [
      "accuracy 1.0\n"
     ]
    }
   ],
   "source": [
    "import pandas as pd\n",
    "from sklearn.model_selection import train_test_split\n",
    "from sklearn.ensemble import RandomForestClassifier\n",
    "from sklearn.metrics import accuracy_score\n",
    "# load the data \n",
    "iris_df = pd.read_csv(\"https://raw.githubusercontent.com/uiuc-cse/data-fa14/gh-pages/data/iris.csv\")\n",
    "# split the data into features and target\n",
    "X = iris_df.drop('species', axis=1)\n",
    "y = iris_df['species']\n",
    "# split ,the data into training and testing sets\n",
    "X_train, X_test, y_train, y_test = train_test_split(X, y, test_size=0.2, random_state=42)\n",
    "#train a random forest classifier\n",
    "model = RandomForestClassifier(n_estimators=100, random_state=42)\n",
    "model.fit(X_train, y_train)\n",
    "#evaluate the model\n",
    "y_pred = model.predict(X_test)\n",
    "accuracy = accuracy_score(y_test, y_pred)\n",
    "print('accuracy', accuracy)"
   ]
  },
  {
   "cell_type": "markdown",
   "metadata": {},
   "source": [
    "step 3. Define the compute environment"
   ]
  },
  {
   "cell_type": "code",
   "execution_count": 6,
   "metadata": {},
   "outputs": [
    {
     "ename": "NameError",
     "evalue": "name 'Workspace' is not defined",
     "output_type": "error",
     "traceback": [
      "\u001b[1;31m---------------------------------------------------------------------------\u001b[0m",
      "\u001b[1;31mNameError\u001b[0m                                 Traceback (most recent call last)",
      "Cell \u001b[1;32mIn[6], line 6\u001b[0m\n\u001b[0;32m      2\u001b[0m \u001b[38;5;28;01mfrom\u001b[39;00m \u001b[38;5;21;01mazureml\u001b[39;00m\u001b[38;5;21;01m.\u001b[39;00m\u001b[38;5;21;01mcore\u001b[39;00m\u001b[38;5;21;01m.\u001b[39;00m\u001b[38;5;21;01mcompute\u001b[39;00m \u001b[38;5;28;01mimport\u001b[39;00m AmlCompute, ComputeTarget\n\u001b[0;32m      4\u001b[0m \u001b[38;5;66;03m#load workspace\u001b[39;00m\n\u001b[1;32m----> 6\u001b[0m workspace \u001b[38;5;241m=\u001b[39m Workspace\u001b[38;5;241m.\u001b[39mfrom_config()\n\u001b[0;32m      8\u001b[0m \u001b[38;5;66;03m#define azure ml compute\u001b[39;00m\n\u001b[0;32m     10\u001b[0m compute_name \u001b[38;5;241m=\u001b[39m \u001b[38;5;124m\"\u001b[39m\u001b[38;5;124mcpu_cluster\u001b[39m\u001b[38;5;124m\"\u001b[39m\n",
      "\u001b[1;31mNameError\u001b[0m: name 'Workspace' is not defined"
     ]
    }
   ],
   "source": [
    "from azureml.core import workspace\n",
    "from azureml.core.compute import AmlCompute, ComputeTarget\n",
    "\n",
    "#load workspace\n",
    "\n",
    "workspace = Workspace.from_config()\n",
    "\n",
    "#define azure ml compute\n",
    "\n",
    "compute_name = \"cpu_cluster\"\n",
    "compute_config = AmlCompute.provisioning_configuration(vm_size=\"STANDARD_DS2_V2\", max_nodes=3)\n",
    "compute_target = ComputeTarget.create(workspace, compute_name, compute_config)\n",
    "compute_target.wait_for_completion(show_output=True)\n",
    "compute_target.wait_for_completion(show_output=True)\n"
   ]
  }
 ],
 "metadata": {
  "kernelspec": {
   "display_name": "base",
   "language": "python",
   "name": "python3"
  },
  "language_info": {
   "codemirror_mode": {
    "name": "ipython",
    "version": 3
   },
   "file_extension": ".py",
   "mimetype": "text/x-python",
   "name": "python",
   "nbconvert_exporter": "python",
   "pygments_lexer": "ipython3",
   "version": "3.11.5"
  }
 },
 "nbformat": 4,
 "nbformat_minor": 2
}
